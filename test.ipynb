{
 "cells": [
  {
   "cell_type": "code",
   "execution_count": null,
   "metadata": {},
   "outputs": [],
   "source": [
    "import graphviz\n",
    "\n",
    "# Define the graph\n",
    "dot = graphviz.Digraph(comment='SEM Model')\n",
    "\n",
    "# Adding nodes for latent variables (factors)\n",
    "dot.node('F1', 'Factor 1')\n",
    "dot.node('F2', 'Factor 2')\n",
    "\n",
    "# Adding nodes for observed variables\n",
    "dot.node('Y1', 'Y1')\n",
    "dot.node('Y2', 'Y2')\n",
    "dot.node('Y3', 'Y3')\n",
    "dot.node('Y4', 'Y4')\n",
    "dot.node('Y5', 'Y5')\n",
    "dot.node('Y6', 'Y6')\n",
    "\n",
    "# Adding edges for factor loadings\n",
    "dot.edges(['F1Y1', 'F1Y2', 'F1Y3', 'F2Y4', 'F2Y5', 'F2Y6'])\n",
    "\n",
    "# Adding an edge for the relationship between latent factors\n",
    "dot.edge('F1', 'F2', label='0.5')\n",
    "\n",
    "# Render the graph to a file (e.g., PDF, PNG)\n",
    "dot.render('sem_model', format='png', cleanup=True)\n",
    "\n",
    "# To display the graph here, let's convert it to an image and then display it\n",
    "dot\n"
   ]
  }
 ],
 "metadata": {
  "language_info": {
   "name": "python"
  }
 },
 "nbformat": 4,
 "nbformat_minor": 2
}
