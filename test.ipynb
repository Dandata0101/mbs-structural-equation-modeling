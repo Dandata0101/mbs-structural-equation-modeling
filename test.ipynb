{
 "cells": [
  {
   "cell_type": "code",
   "execution_count": null,
   "metadata": {},
   "outputs": [],
   "source": [
    "#example code, will replace with real equation\n",
    "from semopy import Model\n",
    "import pandas as pd\n",
    "\n",
    "# Example model specification\n",
    "model_desc = \"\"\"\n",
    "    # Measurement model\n",
    "    eta1 =~ y1 + y2 + y3\n",
    "    eta2 =~ y4 + y5 + y6\n",
    "    \n",
    "    # Structural model\n",
    "    eta2 ~ eta1\n",
    "\"\"\"\n",
    "\n",
    "# Assuming you have a DataFrame 'data' with your observed variables y1, y2, y3, y4, y5, y6\n",
    "# data = pd.read_csv('your_data.csv')\n",
    "\n",
    "# Initialize and fit the model\n",
    "model = Model(model_desc)\n",
    "result = model.fit(data)\n",
    "\n",
    "# Check out the results\n",
    "print(result)\n",
    "# For more detailed output\n",
    "print(model.inspect())\n"
   ]
  }
 ],
 "metadata": {
  "kernelspec": {
   "display_name": ".venv",
   "language": "python",
   "name": "python3"
  },
  "language_info": {
   "codemirror_mode": {
    "name": "ipython",
    "version": 3
   },
   "file_extension": ".py",
   "mimetype": "text/x-python",
   "name": "python",
   "nbconvert_exporter": "python",
   "pygments_lexer": "ipython3",
   "version": "3.11.2"
  }
 },
 "nbformat": 4,
 "nbformat_minor": 2
}
