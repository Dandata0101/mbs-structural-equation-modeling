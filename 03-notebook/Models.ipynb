{
 "cells": [
  {
   "cell_type": "markdown",
   "metadata": {},
   "source": [
    "# Exploratory Regression Analysis"
   ]
  },
  {
   "cell_type": "code",
   "execution_count": null,
   "metadata": {},
   "outputs": [],
   "source": [
    "import os\n",
    "import pandas as pd\n",
    "from package_models.regression_by_segment import perform_regression_analysis\n",
    "\n",
    "current_directory = os.path.dirname(os.getcwd())\n",
    "print(current_directory)\n",
    "\n",
    "data = os.path.join(current_directory, '01-data', 'TAM_DEF.xlsx')\n",
    "summary = os.path.join(current_directory, '04-summary')\n",
    "\n",
    "perform_regression_analysis(\n",
    "    segment_results='Y',\n",
    "    segmentation_column=\"Generation\",\n",
    "    filter_column=None,\n",
    "    filter_values=None,\n",
    "    y_column='Yvar_USE_AI_Work',\n",
    "    excel_path = data,\n",
    "    summary_dir = summary\n",
    ")\n"
   ]
  },
  {
   "cell_type": "markdown",
   "metadata": {},
   "source": [
    "# Custom X variable List— Exploratory Regresson Models"
   ]
  },
  {
   "cell_type": "code",
   "execution_count": null,
   "metadata": {},
   "outputs": [],
   "source": [
    "\n",
    "import os\n",
    "import pandas as pd\n",
    "from package_models.custom_var_regression import custx_regression_analysis\n",
    "\n",
    "custx_regression_analysis(\n",
    "    segment_results='Y',\n",
    "    segmentation_column='Generation',\n",
    "    filter_column=None,\n",
    "    filter_values=[None],\n",
    "    pvalue_threshold=0.05,\n",
    "    y_column='Yvar_USE_AI_Work',\n",
    "    x_column_prefixes=['VAR'],  # Automatically include all columns starting with \"VAR\"\n",
    "    output_filename_template='Custom_Regression_Results_{segmentation_column}.xlsx'\n",
    ")\n"
   ]
  },
  {
   "cell_type": "markdown",
   "metadata": {},
   "source": [
    "# Model and Hypothesis Diagram"
   ]
  },
  {
   "cell_type": "code",
   "execution_count": null,
   "metadata": {},
   "outputs": [],
   "source": [
    "# Create a simplified version of the diagram without the variable details\n",
    "G_simplified = nx.DiGraph()\n",
    "\n",
    "# Add nodes for latent variables and Yvar_USE_AI_Work\n",
    "G_simplified.add_nodes_from(latent_variables)\n",
    "\n",
    "# Add simplified relationships between latent variables and Yvar_USE_AI_Work\n",
    "G_simplified.add_edges_from([('Trust', 'Yvar_USE_AI_Work'), ('Ease_of_Use', 'Yvar_USE_AI_Work'), \n",
    "                             ('Training', 'Yvar_USE_AI_Work'), ('Ethics', 'Yvar_USE_AI_Work')])\n",
    "\n",
    "# Add relationship between Training and Trust\n",
    "G_simplified.add_edge('Training', 'Trust')\n",
    "\n",
    "# Draw the simplified graph\n",
    "plt.figure(figsize=(10, 6))\n",
    "nx.draw(G_simplified, pos=nx.spring_layout(G_simplified, seed=42), with_labels=True, \n",
    "        node_color=\"lightgreen\", node_size=3000, font_size=12, font_weight=\"bold\", arrows=True)\n",
    "plt.title(\"Simplified SEM Diagram (No Variable Details)\", size=15)\n",
    "plt.show()\n"
   ]
  },
  {
   "cell_type": "markdown",
   "metadata": {},
   "source": [
    "# SEM"
   ]
  },
  {
   "cell_type": "code",
   "execution_count": null,
   "metadata": {},
   "outputs": [],
   "source": [
    "import os\n",
    "import pandas as pd\n",
    "from package_models.sem_fx import sem_analysis\n",
    "\n",
    "#SEM Model Description\n",
    "model_desc = \"\"\"\n",
    "# Latent variables\n",
    "Trust =~ VAR11_PRIVACY_AI_Protect_Data + VAR16_ETHICS_AI_Developed_Ethical + VAR25_FAIRNESS_AI_Treats_All_Fair + VAR26_FAIRNESS_Should_Reduce_Bias\n",
    "Ease_of_Use =~ VAR28_PERSONAL_Enhances_Experience + VAR29_PERONAL_Improves_CS_quality + VAR21_EXPLAIN_clear_descisions\n",
    "Training =~ VAR06_ED_AI_Training_needed + VAR03_CG_AI_Training_Access + VAR01_CG_Training + VAR04_CG_AI_Training_helps_skills+ VAR02_CG_AI_Training_Opo\n",
    "\n",
    "ethics =~ VAR19_ACCOUNTABILITY_AI_Mechanisms\n",
    "\n",
    "# Direct relationships with Usage (Yvar_USE_AI_Work)\n",
    "Yvar_USE_AI_Work ~ Trust\n",
    "Yvar_USE_AI_Work ~ Ease_of_Use\n",
    "Yvar_USE_AI_Work ~ Training\n",
    "Yvar_USE_AI_Work ~ ethics\n",
    "\n",
    "# Relationships with latent variables\n",
    "Trust ~ Training\n",
    "Trust ~ VAR16_ETHICS_AI_Developed_Ethical\n",
    "Trust ~ VAR15_SAFETY_AI_protect_Cyber_Threats\n",
    "Trust ~ VAR17_ETHICS_AI_proritize_Human_Wellbeing\n",
    "Trust ~ VAR11_PRIVACY_AI_Protect_Data\n",
    "Trust ~ VAR25_FAIRNESS_AI_Treats_All_Fair\n",
    "Trust ~ VAR26_FAIRNESS_Should_Reduce_Bias\n",
    "\"\"\"\n",
    "\n",
    "# Original Hypotheses Criteria\n",
    "hypothesis_criteria = [\n",
    "    (\"Hypothesis 1: AI Training and Career Growth Opportunities Influence Ease of Use and Trust\", 'Yvar_USE_AI_Work ~ Training'),\n",
    "    (\"Hypothesis 2: Explainability and Fairness Influence User Trust and AI Adoption\", 'Yvar_USE_AI_Work ~ Trust'),\n",
    "    (\"Hypothesis 3: Ethical Development and Social Responsibility Influence User Use\", 'Yvar_USE_AI_Work ~ ethics'),\n",
    "    (\"Hypothesis 4: AI-Driven Personalization Enhances User Experience\", 'Yvar_USE_AI_Work ~ Ease_of_Use'),\n",
    "    (\"Hypothesis 5: AI Training Accessibility and Accountability Influence User Trust\", 'Yvar_USE_AI_Work ~ Ease_of_Use')\n",
    "]\n",
    "\n",
    "# Calling the function with the original model description and hypothesis criteria\n",
    "sem_analysis(model_desc, hypothesis_criteria,segment_results='Y',dependent_variable='Yvar_Work_Personal')\n"
   ]
  }
 ],
 "metadata": {
  "kernelspec": {
   "display_name": ".venv",
   "language": "python",
   "name": "python3"
  },
  "language_info": {
   "codemirror_mode": {
    "name": "ipython",
    "version": 3
   },
   "file_extension": ".py",
   "mimetype": "text/x-python",
   "name": "python",
   "nbconvert_exporter": "python",
   "pygments_lexer": "ipython3",
   "version": "3.11.2"
  }
 },
 "nbformat": 4,
 "nbformat_minor": 2
}
